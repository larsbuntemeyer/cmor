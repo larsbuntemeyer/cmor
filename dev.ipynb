{
 "cells": [
  {
   "cell_type": "code",
   "execution_count": 1,
   "id": "f242e1b4-dcfe-4006-8482-1bf671e08776",
   "metadata": {},
   "outputs": [],
   "source": [
    "%load_ext autoreload\n",
    "%autoreload 2"
   ]
  },
  {
   "cell_type": "code",
   "execution_count": 2,
   "id": "2963b162-69f9-4a0a-919a-d428deadfbf2",
   "metadata": {},
   "outputs": [],
   "source": [
    "from cmor import _cmor"
   ]
  },
  {
   "cell_type": "code",
   "execution_count": 3,
   "id": "25c890ec-5b92-4483-86cd-cc2cc83a70b2",
   "metadata": {},
   "outputs": [
    {
     "data": {
      "text/plain": [
       "<module 'cmip6_cv._cmip6_cv' from '/Users/buntemey/miniconda3/envs/cmor_dev/lib/python3.9/site-packages/cmip6_cv/_cmip6_cv.cpython-39-darwin.so'>"
      ]
     },
     "execution_count": 3,
     "metadata": {},
     "output_type": "execute_result"
    }
   ],
   "source": [
    "from cmip6_cv import _cmip6_cv\n",
    "_cmip6_cv"
   ]
  },
  {
   "cell_type": "code",
   "execution_count": 4,
   "id": "1bab0269-e03a-4a0f-b873-5370bd4d20df",
   "metadata": {},
   "outputs": [
    {
     "name": "stdout",
     "output_type": "stream",
     "text": [
      "Help on built-in function getCMOR_defaults_include in module cmip6_cv._cmip6_cv:\n",
      "\n",
      "getCMOR_defaults_include(...)\n",
      "\n"
     ]
    }
   ],
   "source": [
    "help(_cmip6_cv.getCMOR_defaults_include)#(\"IS_CMIP6\")"
   ]
  },
  {
   "cell_type": "code",
   "execution_count": 5,
   "id": "d30b563b-23bf-4b67-8d84-51e4cad57093",
   "metadata": {},
   "outputs": [
    {
     "data": {
      "text/plain": [
       "\u001b[0;31mDocstring:\u001b[0m <no docstring>\n",
       "\u001b[0;31mType:\u001b[0m      builtin_function_or_method\n"
      ]
     },
     "metadata": {},
     "output_type": "display_data"
    }
   ],
   "source": [
    "_cmip6_cv.getCMOR_defaults_include?"
   ]
  },
  {
   "cell_type": "code",
   "execution_count": 6,
   "id": "b79d5dcc-cd30-45ab-81ca-f69a30e10e9c",
   "metadata": {},
   "outputs": [],
   "source": [
    "_cmip6_cv.getCMOR_defaults_include('GLOBAL_ATT_MIP_ERA')"
   ]
  },
  {
   "cell_type": "code",
   "execution_count": 7,
   "id": "4e9faed9-677b-4f7f-8e4d-0413eb66db15",
   "metadata": {},
   "outputs": [],
   "source": [
    "from cmip6_cv import cmor_const"
   ]
  },
  {
   "cell_type": "code",
   "execution_count": 8,
   "id": "a87cdbe8-5465-461c-88f0-b5286fad09f1",
   "metadata": {},
   "outputs": [
    {
     "name": "stdout",
     "output_type": "stream",
     "text": [
      "Help on module cmip6_cv.cmor_const in cmip6_cv:\n",
      "\n",
      "NAME\n",
      "    cmip6_cv.cmor_const\n",
      "\n",
      "DATA\n",
      "    CMOR_AXIS_ENTRY_FILE = '_AXIS_ENTRY_FILE'\n",
      "    CMOR_CF_VERSION_MAJOR = 1\n",
      "    CMOR_CF_VERSION_MINOR = 7\n",
      "    CMOR_CRITICAL = 22\n",
      "    CMOR_DEFAULT_FILE_TEMPLATE = None\n",
      "    CMOR_DEFAULT_FURTHERURL_TEMPLATE = 'https://furtherinfo.es-doc.org/<mi...\n",
      "    CMOR_DEFAULT_PATH_TEMPLATE = None\n",
      "    CMOR_EXIT = 1\n",
      "    CMOR_EXIT_ON_MAJOR = 0\n",
      "    CMOR_EXIT_ON_WARNING = 2\n",
      "    CMOR_FORMULA_VAR_FILE = '_FORMULA_VAR_FILE'\n",
      "    CMOR_MAX_ATTRIBUTES = 100\n",
      "    CMOR_MAX_AXES = 1500\n",
      "    CMOR_MAX_DIMENSIONS = 7\n",
      "    CMOR_MAX_ELEMENTS = 500\n",
      "    CMOR_MAX_ERRORS = 10\n",
      "    CMOR_MAX_GRIDS = 100\n",
      "    CMOR_MAX_GRID_ATTRIBUTES = 25\n",
      "    CMOR_MAX_STRING = 1024\n",
      "    CMOR_MAX_TABLES = 30\n",
      "    CMOR_MAX_VARIABLES = 500\n",
      "    CMOR_NORMAL = 21\n",
      "    CMOR_QUIET = 0\n",
      "    CMOR_VERSION_MAJOR = 3\n",
      "    CMOR_VERSION_MINOR = 7\n",
      "    CMOR_VERSION_PATCH = 1\n",
      "    CMOR_WARNING = 20\n",
      "    FILE_NAME_TEMPLATE = 'output_file_template'\n",
      "    FILE_PATH_TEMPLATE = 'output_path_template'\n",
      "    GLOBAL_ATT_FURTHERINFOURLTMPL = '_further_info_url_tmpl'\n",
      "    GLOBAL_ATT_MEMBER_ID = '_member_id'\n",
      "    GLOBAL_CV_FILENAME = '_controlled_vocabulary_file'\n",
      "    GLOBAL_IS_CMIP6 = '_cmip6_option'\n",
      "    TABLE_CONTROL_FILENAME = 'CMIP6_CV.json'\n",
      "    att = 'GLOBAL_IS_CMIP6'\n",
      "    attnm = 'GLOBAL_IS_CMIP6'\n",
      "    atts = '\\nCMOR_MAX_STRING\\nCMOR_MAX_ELEMENTS\\nCMOR_MAX_AXES...ENTRY_FI...\n",
      "\n",
      "FILE\n",
      "    /Users/buntemey/miniconda3/envs/cmor_dev/lib/python3.9/site-packages/cmip6_cv/cmor_const.py\n",
      "\n",
      "\n"
     ]
    }
   ],
   "source": [
    "help(cmor_const)"
   ]
  },
  {
   "cell_type": "code",
   "execution_count": 10,
   "id": "190aaf23-df4d-45c6-8726-e1f51ee25f1c",
   "metadata": {},
   "outputs": [
    {
     "data": {
      "text/plain": [
       "'output_path_template'"
      ]
     },
     "execution_count": 10,
     "metadata": {},
     "output_type": "execute_result"
    }
   ],
   "source": [
    "cmor_const.FILE_PATH_TEMPLATE"
   ]
  },
  {
   "cell_type": "code",
   "execution_count": 16,
   "id": "6b067115-0538-4b38-81b6-925efae89b81",
   "metadata": {},
   "outputs": [],
   "source": [
    "_cmip6_cv.getCMOR_defaults_include('AXIS_ATT_POSITIVE')"
   ]
  },
  {
   "cell_type": "code",
   "execution_count": null,
   "id": "a2729488-0049-4ad2-afe1-333fdc6e3794",
   "metadata": {},
   "outputs": [],
   "source": []
  }
 ],
 "metadata": {
  "kernelspec": {
   "display_name": "Python [conda env:cmor_dev]",
   "language": "python",
   "name": "conda-env-cmor_dev-py"
  },
  "language_info": {
   "codemirror_mode": {
    "name": "ipython",
    "version": 3
   },
   "file_extension": ".py",
   "mimetype": "text/x-python",
   "name": "python",
   "nbconvert_exporter": "python",
   "pygments_lexer": "ipython3",
   "version": "3.9.15"
  }
 },
 "nbformat": 4,
 "nbformat_minor": 5
}
